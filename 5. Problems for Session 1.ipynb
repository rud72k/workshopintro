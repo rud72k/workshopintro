{
 "cells": [
  {
   "cell_type": "markdown",
   "metadata": {},
   "source": [
    "# Exercise"
   ]
  },
  {
   "cell_type": "markdown",
   "metadata": {},
   "source": [
    "## Problem"
   ]
  },
  {
   "cell_type": "markdown",
   "metadata": {},
   "source": [
    "Print these sentences on your terminal. Try it with escape and without escape. \n",
    "\n",
    "\n",
    "1. ```My instructor are awesome.```\n",
    "2. ```You're welcome, apprentice.```\n",
    "3. ```What are you doin' my 'lil princess?```\n",
    "4. ``` Could you explain \"why we cannot execute 1/0 in Python, my Darlin'?\"```"
   ]
  },
  {
   "cell_type": "markdown",
   "metadata": {},
   "source": [
    "## Problem"
   ]
  },
  {
   "cell_type": "markdown",
   "metadata": {},
   "source": [
    "\n",
    "Try to print something like this on the terminal without using the number as a part of the strings (use 2000 as number, not string) or using formatter:\n",
    "\n",
    "```I was born on year 2000```\n",
    "\n"
   ]
  },
  {
   "cell_type": "markdown",
   "metadata": {},
   "source": [
    "## Problem"
   ]
  },
  {
   "cell_type": "markdown",
   "metadata": {},
   "source": [
    "\n",
    "Set ```x``` as string that contain following paragraph (vertical space included). Try print the paragraph by using ```print(x)``` but the output is just looked like this (vertical space included).\n",
    "\n",
    "```\n",
    "\n",
    "\n",
    "Lorem ipsum dolor sit amet, consectetur adipiscing elit. Maecenas vel augue in purus consequat egestas sed sit amet justo. Phasellus tristique pretium justo quis euismod. Maecenas tempus eu turpis non laoreet. Nam tincidunt pretium augue id blandit. Morbi posuere, tortor vel tincidunt rhoncus, augue ante commodo nisl, vitae iaculis lacus neque eget augue. Sed congue ut felis sed mattis. Phasellus nisi ex, porttitor eget tempus in, sodales non libero. Ut bibendum ligula suscipit rutrum rutrum. Quisque quis lectus ullamcorper, malesuada nisi eu, eleifend diam. Orci varius natoque penatibus et magnis dis parturient montes, nascetur ridiculus mus.\n",
    "\n",
    "Sed in tortor erat. Cras porta eros at tellus maximus vulputate. Sed ornare laoreet arcu vitae tincidunt. In ullamcorper blandit convallis. Sed sagittis malesuada magna vitae tempus. Ut eu turpis dictum, imperdiet ligula id, interdum nisi. Curabitur sed urna est. Curabitur tristique quam quis arcu sagittis dictum at eget ex. Curabitur rhoncus quis diam sit amet convallis. Curabitur ac purus vel tristique malesuada. \n",
    "\n",
    "```"
   ]
  },
  {
   "cell_type": "markdown",
   "metadata": {},
   "source": [
    "## Problem"
   ]
  },
  {
   "cell_type": "markdown",
   "metadata": {},
   "source": [
    "_Warning:_ _This not really a Python oriented problem. Skip it if you wish._\n",
    "\n",
    "Do some research about Operators and their usage and also their presedence. Now you may use any of these operators to solve the puzzle below. With 'normal' operators, we have solution. With Python operator we have many more solutions!\n",
    "\n",
    "Put some operator between the numbers on the left hand sides.\n",
    "\n",
    "2 2 2 = 6\n",
    "\n",
    "3 3 3 = 6\n",
    "\n",
    "4 4 4 = 6\n",
    "\n",
    "5 5 5 = 6\n",
    "\n",
    "6 6 6 = 6\n",
    "\n",
    "7 7 7 = 6\n",
    "\n",
    "8 8 8 = 6\n",
    "\n",
    "9 9 9 = 6"
   ]
  },
  {
   "cell_type": "markdown",
   "metadata": {},
   "source": [
    "## Problem"
   ]
  },
  {
   "cell_type": "markdown",
   "metadata": {},
   "source": [
    "There's an example of a text-based adventure games. Make it your own version on the last session of this day. Now try this following games. Try to survive on this games."
   ]
  },
  {
   "cell_type": "code",
   "execution_count": null,
   "metadata": {},
   "outputs": [],
   "source": [
    "print(\"You enter a dark room with two doors.  Do you go through door #1 or door #2?\")\n",
    "door = input(\"> \")\n",
    "\n",
    "if door == \"1\":\n",
    "    print(\"There's a giant bear here eating a cheese cake.  What do you do?\")\n",
    "    print(\"1. Take the cake.\")\n",
    "    print(\"2. Scream at the bear.\")\n",
    "\n",
    "    bear = input(\"> \")\n",
    "    if bear == \"1\":\n",
    "        print(\"The bear eats your face off.  Good job!\")\n",
    "    elif bear == \"2\":\n",
    "        print(\"The bear eats your legs off.  Good job!\")\n",
    "    else:\n",
    "        print(\"Well, doing %s is probably better.  Bear runs away.\" % bear)\n",
    "elif door == \"2\":\n",
    "    print(\"You stare into the endless abyss at Cthuhlu's retina.\")\n",
    "    print(\"1. Blueberries.\")\n",
    "    print(\"2. Yellow jacket clothespins.\")\n",
    "    print(\"3. Understanding revolvers yelling melodies.\")\n",
    "\n",
    "    insanity = input(\"> \")\n",
    "\n",
    "    if insanity == \"1\" or insanity == \"2\":\n",
    "        print(\"Your body survives powered by a mind of jello.  Good job!\")\n",
    "    else:\n",
    "        print(\"The insanity rots your eyes into a pool of muck.  Good job!\")\n",
    "else:\n",
    "    print(\"You stumble around and fall on a knife and die.  Good job!\")"
   ]
  },
  {
   "cell_type": "markdown",
   "metadata": {},
   "source": [
    "## Problem"
   ]
  },
  {
   "cell_type": "markdown",
   "metadata": {},
   "source": [
    "Do some review. Make sure you know the following keywords\n",
    "\n",
    "- and\n",
    "- del\n",
    "- from\n",
    "- not\n",
    "- while\n",
    "- as\n",
    "- elif\n",
    "- global\n",
    "- or\n",
    "- with\n",
    "- assert\n",
    "- else\n",
    "- if\n",
    "- pass\n",
    "- yield\n",
    "- break\n",
    "- except\n",
    "- import\n",
    "- print\n",
    "- class\n",
    "- exec\n",
    "- in\n",
    "- raise\n",
    "- continue\n",
    "- finally\n",
    "- is\n",
    "- return\n",
    "- def\n",
    "- for\n",
    "- lambda\n",
    "- try\n",
    "\n",
    "and some data types\n",
    "\n",
    "- True\n",
    "- False\n",
    "- None\n",
    "- strings\n",
    "- numbers\n",
    "- floats\n",
    "- lists\n",
    "\n",
    "and also operator\n",
    "\n",
    "- +\n",
    "- -\n",
    "- *\n",
    "- **\n",
    "- /\n",
    "- //\n",
    "- %\n",
    "- <\n",
    "- >\n",
    "- <=\n",
    "- >=\n",
    "- ==\n",
    "- !=\n",
    "- <>\n",
    "- ( )\n",
    "- [ ]\n",
    "- { }\n",
    "- @\n",
    "- ,\n",
    "- :\n",
    "- . \n",
    "- =\n",
    "- ;\n",
    "- +=\n",
    "- -=\n",
    "- *= \n",
    "- /=\n",
    "- //=\n",
    "- %=\n",
    "- **="
   ]
  },
  {
   "cell_type": "markdown",
   "metadata": {},
   "source": [
    "## Problem"
   ]
  },
  {
   "cell_type": "markdown",
   "metadata": {},
   "source": [
    "## Problem"
   ]
  }
 ],
 "metadata": {
  "kernelspec": {
   "display_name": "Python 3",
   "language": "python",
   "name": "python3"
  },
  "language_info": {
   "codemirror_mode": {
    "name": "ipython",
    "version": 3
   },
   "file_extension": ".py",
   "mimetype": "text/x-python",
   "name": "python",
   "nbconvert_exporter": "python",
   "pygments_lexer": "ipython3",
   "version": "3.7.1"
  }
 },
 "nbformat": 4,
 "nbformat_minor": 2
}
