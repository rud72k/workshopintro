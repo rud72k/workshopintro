{
 "cells": [
  {
   "cell_type": "markdown",
   "metadata": {},
   "source": [
    "# The Basics"
   ]
  },
  {
   "cell_type": "markdown",
   "metadata": {},
   "source": [
    "## Literal Constants"
   ]
  },
  {
   "cell_type": "markdown",
   "metadata": {},
   "source": [
    "The literal constants is: they are literally constants. The are as they are looked like. Numbers and strings are literal constants. 2 will always 2. You cannot change the meaning of 2 to be 10. The string `I am awesome` will always as it is, whether you (the one read it) awesome or not at all.\n"
   ]
  },
  {
   "cell_type": "markdown",
   "metadata": {},
   "source": [
    "\n",
    "## Strings and Numbers"
   ]
  },
  {
   "cell_type": "markdown",
   "metadata": {},
   "source": [
    " Strings is just a data type. We indicate strings with one quotes (```'```), double quotes (```\"```), or triple quotes (```'''``` or ```\"\"\"```). You always can escape from reality by using ```\\``` symbols. Kinda looked like this: "
   ]
  },
  {
   "cell_type": "code",
   "execution_count": 7,
   "metadata": {},
   "outputs": [
    {
     "data": {
      "text/plain": [
       "\"They're never know what are we talked about.\""
      ]
     },
     "execution_count": 7,
     "metadata": {},
     "output_type": "execute_result"
    }
   ],
   "source": [
    "'They\\'re never know what are we talked about.'"
   ]
  },
  {
   "cell_type": "markdown",
   "metadata": {},
   "source": [
    "## Numbers"
   ]
  },
  {
   "cell_type": "markdown",
   "metadata": {},
   "source": [
    "As in your other preference programming class, number are treated as number. No less, no more. There are three distinct numeric types: integers, floating point numbers, and complex numbers. Once upon a time, there are two type of integer, plain integer and long integer. But that all changed ~~when the Fire Nation attacked~~ since [this point onward](https://www.python.org/dev/peps/pep-0237/), when the two types are merged. So you haven't worried about whether it's integer or long integers.\n",
    "\n"
   ]
  },
  {
   "cell_type": "markdown",
   "metadata": {},
   "source": [
    "As you can now print something, do print some of these. No copy-paste allowed:"
   ]
  },
  {
   "cell_type": "code",
   "execution_count": 2,
   "metadata": {},
   "outputs": [
    {
     "name": "stdout",
     "output_type": "stream",
     "text": [
      "Hello, World!\n",
      "I read this one.\n",
      "Duh, bentar lagi pengen copy-paste.\n",
      "Ini pasti udah nggak ada yang ngetik sama kek gini\n",
      "Itu yang males di ujung ngetik apaan woi?\n",
      "Jangan senyum-senyum sendiri, tar keterusan gila.\n",
      "Emang garing ini, tapi lu harus ngetik ini sampe beres gaboleh copas, ga boleh ngeluh, ga boleh senyum, ga boleh ketawa, ga boleh skip ini.\n"
     ]
    }
   ],
   "source": [
    "print(\"Hello, World!\")\n",
    "print(\"I read this one.\")\n",
    "print(\"Duh, bentar lagi pengen copy-paste.\")\n",
    "print(\"Ini pasti udah nggak ada yang ngetik sama kek gini\")\n",
    "print(\"Itu yang males di ujung ngetik apaan woi?\")\n",
    "print(\"Jangan senyum-senyum sendiri, tar keterusan gila.\")\n",
    "print(\"Emang garing ini, tapi lu harus ngetik ini sampe beres gaboleh copas, ga boleh ngeluh, ga boleh senyum, ga boleh ketawa, ga boleh skip ini.\")"
   ]
  },
  {
   "cell_type": "markdown",
   "metadata": {},
   "source": [
    "Now let's move to something else. Find two of your favorite numbers. Do some arithmetic operation on them, then print them out. On Python we have several arithmetic operation on Python by default. That is addition ```+```, substraction ```-```, multiplication ```x```, division ```/```, division with remainder(modulo) ```%```, division with floor ```//```, etc. "
   ]
  },
  {
   "cell_type": "code",
   "execution_count": 6,
   "metadata": {},
   "outputs": [
    {
     "name": "stdout",
     "output_type": "stream",
     "text": [
      "3\n",
      "(12+15j)\n",
      "1j\n"
     ]
    }
   ],
   "source": [
    "print(1+2)\n",
    "print(3*(4+5j))\n",
    "print((1+1j)/(1-1j))\n"
   ]
  },
  {
   "cell_type": "markdown",
   "metadata": {},
   "source": [
    "## Variables\n"
   ]
  },
  {
   "cell_type": "markdown",
   "metadata": {},
   "source": [
    "Somehow, we need some way of storing any information and manipulate them as well. This is where variables come into the picture. In mathematics, we also need some varible to labeled as an unknown. Variables are exactly what they mean - their value can vary i.e. you can store anything using a variable. In our case, variables are just parts of your computer's memory where you store some information. Unlike constants, you need some method of accessing these variables and hence you give them names.\n"
   ]
  },
  {
   "cell_type": "markdown",
   "metadata": {},
   "source": [
    "## Identifier Naming"
   ]
  },
  {
   "cell_type": "markdown",
   "metadata": {},
   "source": [
    "Variables are examples of identifiers. Identifiers are names given to identify something. There are some rules you have to follow for naming identifiers:\n",
    "\n",
    "- the first character should be a letter of alphabet or an underscore ( ```_``` )\n",
    "- the rest of the identifier should be a letter, a number, or an underscore\n",
    "- identifier are case sensitive\n",
    "\n",
    "For example, ```_ini_```, ```anu```, ```iTu```, and ```iT4``` are valid identifier, but ```this one```, ```7hisOne``` or ```this-one``` are not."
   ]
  },
  {
   "cell_type": "markdown",
   "metadata": {},
   "source": [
    "## Object"
   ]
  },
  {
   "cell_type": "markdown",
   "metadata": {},
   "source": [
    "We will skip this one for another workshop :p"
   ]
  },
  {
   "cell_type": "markdown",
   "metadata": {},
   "source": [
    "## Logical and Physical Lines"
   ]
  },
  {
   "cell_type": "markdown",
   "metadata": {},
   "source": [
    "A physical line is what you see when you write the program. A logical line is what Python sees as a single statement. Python implicitly assumes that each physical line corresponds to a logical line. Use more than one physical line for a single logical line only if the logical line is really long. If you want to write a code but unfortunately your code is too long to be on one line, you just use backslash ```/``` to make a new physical lines (NOT a logical line)."
   ]
  },
  {
   "cell_type": "markdown",
   "metadata": {},
   "source": [
    "-----"
   ]
  },
  {
   "cell_type": "markdown",
   "metadata": {},
   "source": [
    "## Exercise\n",
    "\n",
    "Do some exercise. Please do some research on your own before asking. \n",
    "![I will use Google before asking dumb question](https://images-cdn.9gag.com/photo/5707699_700b.jpg)"
   ]
  },
  {
   "cell_type": "markdown",
   "metadata": {},
   "source": [
    "#### PROBLEM\n",
    "\n",
    "Print these sentences on your terminal. Try it with escape and without escape. \n",
    "\n",
    "\n",
    "1. ```My instructor are awesome.```\n",
    "2. ```You're welcome, apprentice.```\n"
   ]
  },
  {
   "cell_type": "markdown",
   "metadata": {},
   "source": [
    "#### PROBLEM\n",
    "\n",
    "Can I make a variable like this: ```13 = 'Bad Numbers'```? Why?\n"
   ]
  },
  {
   "cell_type": "markdown",
   "metadata": {},
   "source": [
    "#### PROBLEM\n",
    "\n",
    "Assign two variables with some strings, i.e. ```x=Department``` and ```y=Mathematics```. Then print ```x+y```. Do the same thing with numbers and string of numbers. Could you spot the difference?. Let ```z=\".\"```. Try print ```y+x+10*z```."
   ]
  },
  {
   "cell_type": "markdown",
   "metadata": {},
   "source": []
  },
  {
   "cell_type": "markdown",
   "metadata": {},
   "source": [
    "#### PROBLEM\n",
    "\n",
    "Just type this one on your favorite terminal or editor."
   ]
  },
  {
   "cell_type": "code",
   "execution_count": 13,
   "metadata": {
    "scrolled": true
   },
   "outputs": [
    {
     "name": "stdout",
     "output_type": "stream",
     "text": [
      "My name is John\n",
      "Now, I am 21 years old\n",
      "I ride a Nissan GTR 2018\n"
     ]
    }
   ],
   "source": [
    "name = \"John\"\n",
    "age = 21\n",
    "cars = \"Nissan GTR\"\n",
    "years = 2018\n",
    "\n",
    "print(\"My name is %s\" % name)\n",
    "print(\"Now, I am %d years old\" % age)\n",
    "print(\"I ride a %s %d\" % (cars, years))"
   ]
  }
 ],
 "metadata": {
  "kernelspec": {
   "display_name": "Python 3",
   "language": "python",
   "name": "python3"
  },
  "language_info": {
   "codemirror_mode": {
    "name": "ipython",
    "version": 3
   },
   "file_extension": ".py",
   "mimetype": "text/x-python",
   "name": "python",
   "nbconvert_exporter": "python",
   "pygments_lexer": "ipython3",
   "version": "3.7.1"
  }
 },
 "nbformat": 4,
 "nbformat_minor": 2
}
