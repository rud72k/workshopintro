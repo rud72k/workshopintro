{
 "cells": [
  {
   "cell_type": "markdown",
   "metadata": {},
   "source": [
    "# Getting Started"
   ]
  },
  {
   "cell_type": "markdown",
   "metadata": {},
   "source": [
    "Surely we all heard about Python and all of the hype of data science and machine learning. But, sorry for dissapoint you, we are here wouldn't talk about it. At least for the this first episode of workshop series, we wouldn't get more than a glance of the hype. We are here to bring you to get into the world of open source, the era of you-can-googled-it-all. \n",
    "\n",
    "For you to get here, I hope that you already have installed conda, or at least python (with pip), in your machine. If you aren't ready for that, please check the assistant in the back of the room, let them instal it for you. Through out the workshop, we will using Python 3.x not the old 2.x. Not to say that 2.x is bad, but rather to embrace the new things and let go the past. \n",
    "\n",
    "First thing first, let us continue the tradition and let say hi to the world:"
   ]
  },
  {
   "cell_type": "code",
   "execution_count": 1,
   "metadata": {},
   "outputs": [
    {
     "name": "stdout",
     "output_type": "stream",
     "text": [
      "Hello, World!\n"
     ]
    }
   ],
   "source": [
    "print(\"Hello, World!\")"
   ]
  },
  {
   "cell_type": "markdown",
   "metadata": {},
   "source": [
    "## Editor"
   ]
  },
  {
   "cell_type": "markdown",
   "metadata": {},
   "source": [
    "Open your laptop, open your Python. Choose any editor you would like to use. There are plenty numbers of editor out there. Here are my fav:\n",
    "\n",
    "1. Notepad, Notepad++, if you are using Windows OS\n",
    "2. gedit (gnome), kate, kwrite (kde), deepin editor (deepin), etc, \n",
    "3. Python IDLE, if you are using windows and install python without install conda\n",
    "4. Spyder (python library)\n",
    "5. Jupyter and Jupyterhub (python librarty)\n",
    "6. Sublime Text (https://www.sublimetext.com/)\n",
    "7. Atom (http://atom.io/)\n",
    "8. any text editor \n",
    "\n",
    "Just do not use a document editor such as Microsoft Word. It is doable, but rather inconvinience. You can directly using terminal if you need a quick glance of a syntax (could be cmd, powershell, or terminal). Just type \"python\" in your terminal, and you can simpy executed any python syntax in there after you saw \n",
    "```>>>```\n",
    "in the terminal rows. \n",
    "\n",
    "A typical python file is with extension ```.py```. You can execute any ```.py``` files with python simply by typing ```python this.py``` at your terminal (of course in appropriate folder). For those who didn't really familiar with terminal, just open your editor and run ```this.py``` at the your choice of text editor.  \n",
    "\n",
    "Last but not least, this workshop will try to engrave your heart and mind with one holy sentence:\n",
    "\n",
    "![I will use Google before asking dumb question](https://images-cdn.9gag.com/photo/5707699_700b.jpg)"
   ]
  },
  {
   "cell_type": "markdown",
   "metadata": {},
   "source": [
    "## Some Notes!"
   ]
  },
  {
   "cell_type": "markdown",
   "metadata": {},
   "source": [
    "As previously said, we can print text with the syntax ```print``` such as: \n",
    "\n",
    "```print(\"Hello, World\")!```\n",
    "\n",
    "This slightly different with Python 2.x where we could just type ```print c``` where ```c``` is the variable we want to print. In Python 3.x we using parentheses to print what's inside."
   ]
  },
  {
   "cell_type": "markdown",
   "metadata": {},
   "source": [
    "### Indentation"
   ]
  },
  {
   "cell_type": "markdown",
   "metadata": {},
   "source": [
    "In the world of Python, the indentation is very important. Unlike, in other programming languages where the indentation in code is for readability only, in Python the indentation was marked as continuation of the previous lines to indicate a block of code. Here is an example:\n",
    "\n"
   ]
  },
  {
   "cell_type": "code",
   "execution_count": 2,
   "metadata": {},
   "outputs": [
    {
     "name": "stdout",
     "output_type": "stream",
     "text": [
      "Cakeep\n"
     ]
    }
   ],
   "source": [
    "if 5 > 2:\n",
    "    print(\"Cakeep\")"
   ]
  },
  {
   "cell_type": "code",
   "execution_count": 3,
   "metadata": {},
   "outputs": [
    {
     "ename": "IndentationError",
     "evalue": "expected an indented block (<ipython-input-3-61ebf1355001>, line 2)",
     "output_type": "error",
     "traceback": [
      "\u001b[0;36m  File \u001b[0;32m\"<ipython-input-3-61ebf1355001>\"\u001b[0;36m, line \u001b[0;32m2\u001b[0m\n\u001b[0;31m    print(\"Salah ini\")\u001b[0m\n\u001b[0m        ^\u001b[0m\n\u001b[0;31mIndentationError\u001b[0m\u001b[0;31m:\u001b[0m expected an indented block\n"
     ]
    }
   ],
   "source": [
    "if 5 > 2:\n",
    "print(\"Salah ini\")"
   ]
  },
  {
   "cell_type": "markdown",
   "metadata": {},
   "source": [
    "You will find an error on the line 3 since the statement ```if``` is not complete. ```PRO TIPS```: Do not use a mixture of tabs and spaces for the indentation as it does not work across different platforms properly."
   ]
  },
  {
   "cell_type": "markdown",
   "metadata": {},
   "source": [
    "### Commenting"
   ]
  },
  {
   "cell_type": "markdown",
   "metadata": {},
   "source": [
    "You can add a comment simply by type ```#``` before a comment and the rest of the lines would be commented out. "
   ]
  },
  {
   "cell_type": "code",
   "execution_count": 7,
   "metadata": {},
   "outputs": [
    {
     "name": "stdout",
     "output_type": "stream",
     "text": [
      "Jalan jalan ke pasar minggu,\n",
      "udah gitu doang.\n"
     ]
    }
   ],
   "source": [
    "print(\"Jalan jalan ke pasar minggu,\") # yang ini yang komen\n",
    "# print(\"Cakeeep\")\n",
    "print(\"udah gitu doang.\")\n",
    "# print(\"weeew!\")"
   ]
  },
  {
   "cell_type": "markdown",
   "metadata": {},
   "source": [
    "### Documentation \n",
    "\n",
    "Python also has extended documentation capability, called docstrings. Docstrings can be one line, or multiline.\n",
    "Python uses triple quotes at the beginning and end of the docstring:"
   ]
  },
  {
   "cell_type": "code",
   "execution_count": 9,
   "metadata": {},
   "outputs": [
    {
     "name": "stdout",
     "output_type": "stream",
     "text": [
      "Hello, World!\n"
     ]
    }
   ],
   "source": [
    "\"\"\"Continuation of the tradition\"\"\"\n",
    "print(\"Hello, World!\")"
   ]
  },
  {
   "cell_type": "markdown",
   "metadata": {},
   "source": [
    "## Before You Ask\n",
    "\n",
    "But before you asking a technical question online, there are some things you should consider to do the following:\n",
    "\n",
    "\n",
    ">    1. Try to find an answer by READING THE MANUAL!     \n",
    ">    2. Try to find an answer by **searching** the archives of the forum or mailing list you plan to post to.\n",
    ">    3. Try to find an answer by **searching** the Web.\n",
    ">    4. Try to find an answer by READING a FAQ.\n",
    ">    5. Try to find an answer by inspection or experimentation.\n",
    ">    6. Try to find an answer by asking a skilled friend.\n",
    ">    7. If you're a programmer, try to find an answer by reading the source code.\n",
    "    \n",
    "When you ask your question, display the fact that you have done these things first; this will help establish that you're not being a lazy sponge and wasting people's time. Better yet, display what you have learned from doing these things. We like answering questions for people who have demonstrated they can learn from the answers.\n",
    "\n"
   ]
  },
  {
   "cell_type": "markdown",
   "metadata": {},
   "source": [
    "## References\n",
    "\n",
    "Some references: \n",
    "\n",
    "0. [Python Documentation](https://docs.python.org)\n",
    "1. Swaroop, C.H. A Byte of Python\n",
    "2. Shaw, Zed. Learn Python the Hard Way.\n",
    "3. W3Schools, old but gold.\n",
    "3. Stackoverflow will help you to do some troubleshooting.\n",
    "4. Duckduckgo is your true best friend. Google is not. "
   ]
  },
  {
   "cell_type": "markdown",
   "metadata": {},
   "source": [
    "### End of Notes"
   ]
  },
  {
   "cell_type": "markdown",
   "metadata": {},
   "source": [
    "That's it! Now you ready to start ~~coding~~ Googling and learn Python!"
   ]
  }
 ],
 "metadata": {
  "kernelspec": {
   "display_name": "Python 3",
   "language": "python",
   "name": "python3"
  },
  "language_info": {
   "codemirror_mode": {
    "name": "ipython",
    "version": 3
   },
   "file_extension": ".py",
   "mimetype": "text/x-python",
   "name": "python",
   "nbconvert_exporter": "python",
   "pygments_lexer": "ipython3",
   "version": "3.7.1"
  }
 },
 "nbformat": 4,
 "nbformat_minor": 2
}
