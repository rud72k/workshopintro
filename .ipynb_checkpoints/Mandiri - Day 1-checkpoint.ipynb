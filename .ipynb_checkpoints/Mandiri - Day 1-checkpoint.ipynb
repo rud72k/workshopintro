{
 "cells": [
  {
   "cell_type": "markdown",
   "metadata": {},
   "source": [
    "_Make a group of three. Every group should present their work in the end of the day._ \n",
    "_You may scale up or scale down this project based on your skill and understanding._\n",
    "_If you need a paper and a pen, just do so. Don't be shy._\n",
    "_Don't hesitate to let me, or assistant know what are you thinking or asking. But make sure you did some research before asking, Don't be a lazy sponge._\n"
   ]
  },
  {
   "cell_type": "markdown",
   "metadata": {},
   "source": [
    "# Problem 1\n"
   ]
  },
  {
   "cell_type": "markdown",
   "metadata": {},
   "source": [
    "Make a some a text-based adventure games based on Python. You may refer to previous problems or files ```ex43.py```."
   ]
  },
  {
   "cell_type": "markdown",
   "metadata": {},
   "source": [
    "# Problem 2"
   ]
  },
  {
   "cell_type": "markdown",
   "metadata": {},
   "source": [
    "_Make a mini version of John Conway's Game of Life!_\n",
    "\n",
    "\n",
    "Within ```n x n``` cells, there are people who lived in the cell. We have following rules.\n",
    "\n",
    "For a space that is 'populated':\n",
    "-     Each cell with one or no neighbors dies, as if by solitude. \n",
    "-     Each cell with four or more neighbors dies, as if by overpopulation. \n",
    "-     Each cell with two or three neighbors survives. \n",
    "\n",
    "For a space that is 'empty' or 'unpopulated'\n",
    "-     Each cell with three neighbors becomes populated. \n",
    "    \n",
    "Make the simulation run indefinitely or for some times. \n"
   ]
  },
  {
   "cell_type": "markdown",
   "metadata": {},
   "source": [
    "# Problem 3\n"
   ]
  },
  {
   "cell_type": "markdown",
   "metadata": {},
   "source": [
    "At some community, there are only boys and girls. The"
   ]
  }
 ],
 "metadata": {
  "kernelspec": {
   "display_name": "Python 3",
   "language": "python",
   "name": "python3"
  },
  "language_info": {
   "codemirror_mode": {
    "name": "ipython",
    "version": 3
   },
   "file_extension": ".py",
   "mimetype": "text/x-python",
   "name": "python",
   "nbconvert_exporter": "python",
   "pygments_lexer": "ipython3",
   "version": "3.7.1"
  }
 },
 "nbformat": 4,
 "nbformat_minor": 2
}
