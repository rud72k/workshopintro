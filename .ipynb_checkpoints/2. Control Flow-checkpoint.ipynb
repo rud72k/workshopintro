{
 "cells": [
  {
   "cell_type": "markdown",
   "metadata": {},
   "source": [
    "# Control Flow"
   ]
  },
  {
   "cell_type": "markdown",
   "metadata": {},
   "source": [
    "One might want to execute program with some order in mind, with some flow that different than just do some series of statements as we did in previous chapter. Like many other languages, Python have the ability to do so. Namely, ```if```, ```while```, ```for```, ```break```, and ```continue```. We may not cover all of these details right now, but we will try to cover the rough of the nature of these built in function."
   ]
  },
  {
   "cell_type": "markdown",
   "metadata": {},
   "source": [
    "## If\n"
   ]
  },
  {
   "cell_type": "markdown",
   "metadata": {},
   "source": [
    "Here are some codes from _A Byte of Python_ with modification. The function ```input()``` is just a built-in function which prints it to the screen and waits for keyboard input from the user.  Python 2.x might have it different way to do this. "
   ]
  },
  {
   "cell_type": "code",
   "execution_count": 1,
   "metadata": {},
   "outputs": [
    {
     "name": "stdout",
     "output_type": "stream",
     "text": [
      "Enter an integer : 123\n",
      "no\n"
     ]
    }
   ],
   "source": [
    "#!/usr/bin/python\n",
    "# Filename: if.py\n",
    "number = 23\n",
    "guess = int(input('Enter an integer : '))\n",
    "if guess == number:\n",
    "    print('Congratulations, you guessed it.') # New block starts here\n",
    "    print(\"(but you do not win any prizes!)\") # New block ends here\n",
    "elif guess < number:\n",
    "    print('No, it is a little higher than that.') # Another block\n",
    "    # You can do whatever you want in a block ...\n",
    "elif 1<2:\n",
    "    print(\"no\")\n",
    "else:\n",
    "    print('No, it is a little lower than that.')\n",
    "    # you must have guess > number to reach here\n",
    "    print('Done')\n",
    "    # This last statement is always executed, after the if statement is executed"
   ]
  },
  {
   "cell_type": "markdown",
   "metadata": {},
   "source": [
    "The main blocks of this ```if``` are\n",
    "```\n",
    "if statement:\n",
    "    some command\n",
    "elif other-statement:\n",
    "    some other command\n",
    "else:\n",
    "    another command\n",
    "```\n",
    "\n",
    "Basically the statement after ```if``` are the primary condition so that the following command could run. The ```elif``` are the second priority after the ```if``` or after another ```elif``` above this one. ```else``` is the lowest priority. The very minimal requirement of this function are one statment and command. For example:"
   ]
  },
  {
   "cell_type": "code",
   "execution_count": 8,
   "metadata": {},
   "outputs": [
    {
     "name": "stdout",
     "output_type": "stream",
     "text": [
      "0.19999999999999996\n"
     ]
    }
   ],
   "source": [
    "if 10 == 9+1:\n",
    "    print(1.2 - 1.0)"
   ]
  },
  {
   "cell_type": "markdown",
   "metadata": {},
   "source": [
    "## While\n"
   ]
  },
  {
   "cell_type": "markdown",
   "metadata": {},
   "source": [
    "Another codes from the same book previously mentioned, _A Byte of Python_, with some modification for compability. ```True``` and ```False``` are also literal constants. You cannot doin anything with them. "
   ]
  },
  {
   "cell_type": "code",
   "execution_count": 14,
   "metadata": {},
   "outputs": [
    {
     "name": "stdout",
     "output_type": "stream",
     "text": [
      "Enter an integer : 5\n",
      "No, it is a little higher than that.\n",
      "Enter an integer : 7\n",
      "No, it is a little higher than that.\n",
      "Enter an integer : 19\n",
      "No, it is a little higher than that.\n",
      "Enter an integer : 22\n",
      "No, it is a little higher than that.\n",
      "Enter an integer : 23\n",
      "Congratulations, you guessed it.\n",
      "The while loop is over.\n",
      "Done\n"
     ]
    }
   ],
   "source": [
    "#!/usr/bin/python\n",
    "# Filename: while.py\n",
    "number = 23\n",
    "running = True\n",
    "\n",
    "while running:\n",
    "    guess = int(input('Enter an integer : '))\n",
    "    if guess == number:\n",
    "        print('Congratulations, you guessed it.')\n",
    "        running = False # this causes the while loop to stop\n",
    "    elif guess < number:\n",
    "        print('No, it is a little higher than that.')\n",
    "    else:\n",
    "        print('No, it is a little lower than that.')\n",
    "else:\n",
    "    print('The while loop is over.')\n",
    "# Do anything else you want to do here\n",
    "print('Done')"
   ]
  },
  {
   "cell_type": "markdown",
   "metadata": {},
   "source": [
    "While ```if``` is only work when the condition fulfilled, the while is almost the opposite: ```while``` automatically work and just stop when the condition is breach. Unlike some other programs, in the Python, ```while``` could be followed by ```else```."
   ]
  },
  {
   "cell_type": "markdown",
   "metadata": {},
   "source": [
    "## For"
   ]
  },
  {
   "cell_type": "markdown",
   "metadata": {},
   "source": [
    "The ```for``` function on Python is one of the most sophisticated. You can do ```for``` followed by ```else```. Not only that, you can almost literally looping anything with ```for```. For example:\n"
   ]
  },
  {
   "cell_type": "code",
   "execution_count": 17,
   "metadata": {},
   "outputs": [
    {
     "name": "stdout",
     "output_type": "stream",
     "text": [
      "1\n",
      "2\n",
      "3\n",
      "4\n",
      "printed with range\n",
      "ini ikanteri\n",
      "yang ini dapet sepeda\n",
      "ini ikankakap\n",
      "yang ini dapet sepeda\n",
      "ini ikantongkol\n",
      "yang ini dapet sepeda\n",
      "i\n",
      " \n",
      "l\n",
      "o\n",
      "v\n",
      "e\n",
      " \n",
      "y\n",
      "o\n",
      "u\n",
      "no matter what\n"
     ]
    }
   ],
   "source": [
    "for i in range(1,5):\n",
    "    print(i)\n",
    "else:\n",
    "    print(\"printed with range\")\n",
    "\n",
    "fishes = (\"teri\", \"kakap\", \"tongkol\")\n",
    "for fish in fishes:\n",
    "    print(\"ini ikan\"+fish)\n",
    "    print(\"yang ini dapet sepeda\")\n",
    "\n",
    "for love in \"i love you\":\n",
    "    print(love)\n",
    "else:\n",
    "    print(\"no matter what\")"
   ]
  },
  {
   "cell_type": "markdown",
   "metadata": {},
   "source": [
    "Have same property as ```if``` and ```while```, the block after the line with ```for iterator in iteration:``` are the command that would run iteratively. And here, you see again that this ```if``` has ```else``` following it behind. "
   ]
  },
  {
   "cell_type": "markdown",
   "metadata": {},
   "source": [
    "## Break and Continue"
   ]
  },
  {
   "cell_type": "markdown",
   "metadata": {},
   "source": [
    "Break and Continue are quite the opposite but not really an opposite at the same time. Here's an example."
   ]
  },
  {
   "cell_type": "code",
   "execution_count": null,
   "metadata": {},
   "outputs": [
    {
     "name": "stdout",
     "output_type": "stream",
     "text": [
      "isi dong:quite\n",
      "panjang string adalah 5\n",
      "Input is of sufficient length\n",
      "isi dong:12\n",
      "panjang string adalah 2\n"
     ]
    }
   ],
   "source": [
    "while True:\n",
    "    s = input('isi dong:')\n",
    "    if s == 'quit' : \n",
    "        break\n",
    "    print('panjang string adalah', len(s))\n",
    "    \n",
    "    if len(s) < 3:\n",
    "        continue\n",
    "    print('Input is of sufficient length')\n",
    "print('Done.')"
   ]
  },
  {
   "cell_type": "markdown",
   "metadata": {},
   "source": [
    "While ```break``` really break the flow, the ```continue``` is just like ```pass``` when you playing a card, the flow still, but you didn't get your turn. "
   ]
  },
  {
   "cell_type": "markdown",
   "metadata": {},
   "source": [
    "## Exercise\n"
   ]
  },
  {
   "cell_type": "markdown",
   "metadata": {},
   "source": [
    "#### PROBLEM"
   ]
  },
  {
   "cell_type": "markdown",
   "metadata": {},
   "source": [
    "Make a list of the month of the year. Skipped in your month of your birthday. Print it out."
   ]
  }
 ],
 "metadata": {
  "kernelspec": {
   "display_name": "Python 3",
   "language": "python",
   "name": "python3"
  },
  "language_info": {
   "codemirror_mode": {
    "name": "ipython",
    "version": 3
   },
   "file_extension": ".py",
   "mimetype": "text/x-python",
   "name": "python",
   "nbconvert_exporter": "python",
   "pygments_lexer": "ipython3",
   "version": "3.7.1"
  }
 },
 "nbformat": 4,
 "nbformat_minor": 2
}
