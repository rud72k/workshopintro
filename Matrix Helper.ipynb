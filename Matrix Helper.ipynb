{
  "nbformat": 4,
  "nbformat_minor": 0,
  "metadata": {
    "colab": {
      "name": "Matriks Solver.ipynb",
      "provenance": [],
      "collapsed_sections": [],
      "authorship_tag": "ABX9TyNjRphoX3uBKILGZrvTjdlR",
      "include_colab_link": true
    },
    "kernelspec": {
      "name": "python3",
      "display_name": "Python 3"
    }
  },
  "cells": [
    {
      "cell_type": "markdown",
      "metadata": {
        "id": "view-in-github",
        "colab_type": "text"
      },
      "source": [
        "<a href=\"https://colab.research.google.com/github/rud72k/workshopintro/blob/master/Matrix%20Helper.ipynb\" target=\"_parent\"><img src=\"https://colab.research.google.com/assets/colab-badge.svg\" alt=\"Open In Colab\"/></a>"
      ]
    },
    {
      "cell_type": "markdown",
      "metadata": {
        "id": "8pwc88akclQP"
      },
      "source": [
        "# Matrix Helper"
      ]
    },
    {
      "cell_type": "code",
      "metadata": {
        "id": "X-taGAhBchdE"
      },
      "source": [
        "import numpy as np        # inisiasi numpy untuk membantu perhitungan\n",
        "invers = np.linalg.inv"
      ],
      "execution_count": null,
      "outputs": []
    },
    {
      "cell_type": "code",
      "metadata": {
        "id": "nQkzhe71czvO",
        "outputId": "0290a661-7d09-4905-d9d0-31642b735731",
        "colab": {
          "base_uri": "https://localhost:8080/",
          "height": 73
        }
      },
      "source": [
        "n = 3                             # ukuran \n",
        "M = np.array([[1,2,3],            # inisiasi matriks yang akan disolve\n",
        "             [1,3,4],\n",
        "             [2,3,5]])\n",
        "t = np.array([1,2,3])             # inisiasi nilai t awal (vektor)\n",
        "I = np.identity(n)\n",
        "print(M)"
      ],
      "execution_count": null,
      "outputs": [
        {
          "output_type": "stream",
          "text": [
            "[[1 2 3]\n",
            " [1 3 4]\n",
            " [2 3 5]]\n"
          ],
          "name": "stdout"
        }
      ]
    },
    {
      "cell_type": "code",
      "metadata": {
        "id": "3sbntblydAFV",
        "outputId": "8aa77989-a253-46f1-ae0d-bd72c6a2798f",
        "colab": {
          "base_uri": "https://localhost:8080/",
          "height": 36
        }
      },
      "source": [
        "t = np.matmul(invers(I-M),t)      # mengupdate nilai t"
      ],
      "execution_count": null,
      "outputs": [
        {
          "output_type": "stream",
          "text": [
            "[-0.3872  2.0272 -1.1888]\n"
          ],
          "name": "stdout"
        }
      ]
    }
  ]
}