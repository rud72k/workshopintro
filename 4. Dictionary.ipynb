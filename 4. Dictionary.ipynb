{
 "cells": [
  {
   "cell_type": "markdown",
   "metadata": {},
   "source": [
    "# Data Structures"
   ]
  },
  {
   "cell_type": "markdown",
   "metadata": {},
   "source": [
    "Data structures are structures which can hold some data together. In other words, they are used to store a collection of related data. There are three built in data structures in Python - list, tuple and dictionary. "
   ]
  },
  {
   "cell_type": "markdown",
   "metadata": {},
   "source": [
    "## List"
   ]
  },
  {
   "cell_type": "markdown",
   "metadata": {},
   "source": [
    "List is an ordered data or collection of item. They are enclosed with brackets. You mau add or remove or search items from, to, or in the list."
   ]
  },
  {
   "cell_type": "code",
   "execution_count": 37,
   "metadata": {
    "scrolled": true
   },
   "outputs": [
    {
     "name": "stdout",
     "output_type": "stream",
     "text": [
      "ini ikan teri\n",
      "ini ikan kakap\n",
      "ini ikan tongkol\n",
      " sword\n",
      " halberd\n",
      " axe\n",
      " knife\n",
      " blade\n",
      "teri\n",
      " blade\n",
      "ini ikan teri\n",
      "ini ikan kakap\n"
     ]
    }
   ],
   "source": [
    "import sys\n",
    "fishes = [\"teri\", \"kakap\", \"tongkol\"]\n",
    "items = (\" sword\",\" halberd\",\" axe\",\" knife\",\" blade\")\n",
    "\n",
    "for fish in fishes:\n",
    "    print(\"ini ikan \"+fish)\n",
    "\n",
    "for item in items:\n",
    "    print(item)\n",
    "\n",
    "print(fishes[0])\n",
    "print(items[-1])\n",
    "del(fishes[-1])\n",
    "\n",
    "for fish in fishes:\n",
    "    print(\"ini ikan \"+fish)"
   ]
  },
  {
   "cell_type": "markdown",
   "metadata": {},
   "source": [
    "## Tuple"
   ]
  },
  {
   "cell_type": "markdown",
   "metadata": {},
   "source": [
    "Tuple is just like list, but one cannot modify typles. So you must be careful when defining a tuple. You can define tuple with parenthessis (in contrast of list that used brackets)."
   ]
  },
  {
   "cell_type": "code",
   "execution_count": 14,
   "metadata": {},
   "outputs": [
    {
     "name": "stdout",
     "output_type": "stream",
     "text": [
      "My name is John\n",
      "Now, I am 21 years old\n",
      "I ride a Nissan GTR 2018\n"
     ]
    }
   ],
   "source": [
    "name = \"John\"\n",
    "age = 21\n",
    "cars = \"Nissan GTR\"\n",
    "years = 2018\n",
    "\n",
    "print(\"My name is %s\" % name)\n",
    "print(\"Now, I am %d years old\" % age)\n",
    "print(\"I ride a %s %d\" % (cars, years))"
   ]
  },
  {
   "cell_type": "markdown",
   "metadata": {},
   "source": [
    "## Sequences"
   ]
  },
  {
   "cell_type": "markdown",
   "metadata": {},
   "source": [
    "The sequences such as strings, list, and tuples are special. You may have indexing operation to fetch a data from it and you also could take \"some slice\" of it.  "
   ]
  },
  {
   "cell_type": "code",
   "execution_count": 35,
   "metadata": {
    "scrolled": true
   },
   "outputs": [
    {
     "name": "stdout",
     "output_type": "stream",
     "text": [
      "3\n",
      "4\n",
      "6\n",
      "tongkol\n",
      "35897\n",
      "('kakap',)\n"
     ]
    }
   ],
   "source": [
    "pii = \"3.141592653589793238462643\"\n",
    "fishes = (\"teri\", \"kakap\", \"tongkol\")\n",
    "\n",
    "# Get a data\n",
    "print(pii[0])\n",
    "print(pii[-2])\n",
    "print(pii[-3])\n",
    "print(fishes[2])\n",
    "\n",
    "# Slice\n",
    "print(pii[10:15])\n",
    "print(fishes[1:2])"
   ]
  },
  {
   "cell_type": "markdown",
   "metadata": {},
   "source": [
    "## Dictionary"
   ]
  },
  {
   "cell_type": "markdown",
   "metadata": {},
   "source": [
    "A dictionary is like an data base where you can find some data based only a \"key\". As in database, a key must be unique. While the previous type using brackets and parenthesis, the dictionary using a curly brackets. The following example taken from _A Byte of Python_."
   ]
  },
  {
   "cell_type": "code",
   "execution_count": 42,
   "metadata": {},
   "outputs": [
    {
     "name": "stdout",
     "output_type": "stream",
     "text": [
      "Swaroop's address is swaroopch@byteofpython.info\n",
      "\n",
      "There are 4 contacts in the address-book\n",
      "\n",
      "Contact Swaroop at swaroopch@byteofpython.info\n",
      "Contact Larry at larry@wall.org\n",
      "Contact Matsumoto at matz@ruby-lang.org\n",
      "Contact Guido at guido@python.org\n",
      "\n",
      "Guido's address is guido@python.org\n"
     ]
    }
   ],
   "source": [
    "#!/usr/bin/python\n",
    "# Filename: using_dict.py\n",
    "# 'AB' is short for 'A'ddress'B'ook\n",
    "AB = {         'Swaroop'   : 'swaroopch@byteofpython.info',\n",
    "'Larry'     : 'larry@wall.org',\n",
    "'Matsumoto' : 'matz@ruby-lang.org',\n",
    "'Spammer'   : 'spammer@hotmail.com'\n",
    "}\n",
    "print(\"Swaroop's address is %s\" % AB['Swaroop'])\n",
    "# Adding a key/value pair\n",
    "AB['Guido'] = 'guido@python.org'\n",
    "# Deleting a key/value pair\n",
    "del AB['Spammer']\n",
    "\n",
    "print('\\nThere are %d contacts in the address-book\\n' % len(AB))\n",
    "\n",
    "for name, address in AB.items():\n",
    "    print('Contact %s at %s' % (name, address))\n",
    "\n",
    "if 'Guido' in AB: # OR AB.has_key('Guido')\n",
    "    print(\"\\nGuido's address is %s\" % AB['Guido'])"
   ]
  },
  {
   "cell_type": "markdown",
   "metadata": {},
   "source": [
    "With it yo can see that if we can identify the name, we can get the other content of the fields. Now look at the following example (_Learn Python the Hardway_). We can also adding another stuff into our dictionary by ```dictionary['key']='value'```.\n",
    "\n",
    "Also read this following example for your train of thought before taking exercise in the next chapter."
   ]
  },
  {
   "cell_type": "code",
   "execution_count": 1,
   "metadata": {},
   "outputs": [
    {
     "name": "stdout",
     "output_type": "stream",
     "text": [
      "State? (ENTER to quit)\n",
      "> CA\n",
      "San Francisco\n",
      "State? (ENTER to quit)\n",
      "> MI\n",
      "Detroit\n",
      "State? (ENTER to quit)\n",
      "> FL\n",
      "Jacksonville\n",
      "State? (ENTER to quit)\n",
      "> NY\n",
      "New York\n",
      "State? (ENTER to quit)\n",
      "> OR\n",
      "Portland\n",
      "State? (ENTER to quit)\n",
      "> \n"
     ]
    }
   ],
   "source": [
    "cities = {'CA':'San Francisco','MI':'Detroit','FL':'Jacksonville'}\n",
    "cities['NY'] = 'New York'\n",
    "cities['OR'] = 'Portland'\n",
    "\n",
    "\n",
    "def find_city(themap, state): \n",
    "    if state in themap:\n",
    "        return themap[state]\n",
    "    else:\n",
    "        return \"Not found.\"\n",
    "    \n",
    "cities['_find'] = find_city\n",
    "\n",
    "while True:\n",
    "    print(\"State? (ENTER to quit)\")\n",
    "    state = input(\"> \")\n",
    "    \n",
    "    if not state:\n",
    "        break\n",
    "    \n",
    "    # this line is the most important ever! study!\n",
    "    city_found = cities['_find'](cities, state)\n",
    "    \n",
    "    print(city_found)\n"
   ]
  }
 ],
 "metadata": {
  "kernelspec": {
   "display_name": "Python 3",
   "language": "python",
   "name": "python3"
  },
  "language_info": {
   "codemirror_mode": {
    "name": "ipython",
    "version": 3
   },
   "file_extension": ".py",
   "mimetype": "text/x-python",
   "name": "python",
   "nbconvert_exporter": "python",
   "pygments_lexer": "ipython3",
   "version": "3.7.1"
  }
 },
 "nbformat": 4,
 "nbformat_minor": 2
}
