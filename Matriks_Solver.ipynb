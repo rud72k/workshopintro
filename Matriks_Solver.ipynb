{
  "nbformat": 4,
  "nbformat_minor": 0,
  "metadata": {
    "colab": {
      "name": "Matriks Solver.ipynb",
      "provenance": [],
      "authorship_tag": "ABX9TyMlqQse0VFT4Rl0W351mzA0",
      "include_colab_link": true
    },
    "kernelspec": {
      "name": "python3",
      "display_name": "Python 3"
    }
  },
  "cells": [
    {
      "cell_type": "markdown",
      "metadata": {
        "id": "view-in-github",
        "colab_type": "text"
      },
      "source": [
        "<a href=\"https://colab.research.google.com/github/rud72k/workshopintro/blob/master/Matriks_Solver.ipynb\" target=\"_parent\"><img src=\"https://colab.research.google.com/assets/colab-badge.svg\" alt=\"Open In Colab\"/></a>"
      ]
    },
    {
      "cell_type": "markdown",
      "metadata": {
        "id": "8pwc88akclQP"
      },
      "source": [
        "# Ini adalah program untuk membantu menyelesaikan persamaan dalam matrix"
      ]
    },
    {
      "cell_type": "code",
      "metadata": {
        "id": "X-taGAhBchdE"
      },
      "source": [
        "import numpy as np        # inisiasi numpy untuk membantu perhitungan\n",
        "invers = np.linalg.inv"
      ],
      "execution_count": 6,
      "outputs": []
    },
    {
      "cell_type": "code",
      "metadata": {
        "id": "nQkzhe71czvO",
        "outputId": "569a62a1-a4ab-48ef-ca16-cab3a71362ac",
        "colab": {
          "base_uri": "https://localhost:8080/",
          "height": 73
        }
      },
      "source": [
        "n = 3                             # ukuran \n",
        "M = np.array([[1,2,3],            # inisiasi matriks yang akan disolve\n",
        "             [1,3,4],\n",
        "             [2,3,5]])\n",
        "t = np.array([1,2,3])             # inisiasi nilai t awal (vektor)\n",
        "I = np.identity(n)\n",
        "print(M)"
      ],
      "execution_count": 5,
      "outputs": [
        {
          "output_type": "stream",
          "text": [
            "[[1 2 3]\n",
            " [1 3 4]\n",
            " [2 3 5]]\n"
          ],
          "name": "stdout"
        }
      ]
    },
    {
      "cell_type": "code",
      "metadata": {
        "id": "3sbntblydAFV"
      },
      "source": [
        "t = np.invet"
      ],
      "execution_count": null,
      "outputs": []
    }
  ]
}